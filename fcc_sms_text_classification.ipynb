{
 "cells": [
  {
   "cell_type": "code",
   "execution_count": null,
   "metadata": {
    "id": "8RZOuS9LWQvv"
   },
   "outputs": [],
   "source": [
    "# import libraries\n",
    "try:\n",
    "  # %tensorflow_version only exists in Colab.\n",
    "  !pip install tf-nightly pandas matplotlib tensorflow-datasets\n",
    "except Exception:\n",
    "  pass\n",
    "import tensorflow as tf\n",
    "import pandas as pd\n",
    "from tensorflow import keras\n",
    "import tensorflow_datasets as tfds\n",
    "import numpy as np\n",
    "import matplotlib.pyplot as plt\n",
    "\n",
    "print(tf.__version__)"
   ]
  },
  {
   "cell_type": "code",
   "execution_count": null,
   "metadata": {
    "id": "lMHwYXHXCar3"
   },
   "outputs": [],
   "source": [
    "# get data files\n",
    "import os\n",
    "\n",
    "training_file_path = \"train-data.tsv\"\n",
    "testing_file_path = \"valid-data.tsv\"\n",
    "\n",
    "if not os.path.exists(training_file_path):\n",
    "    !curl -L -O https://cdn.freecodecamp.org/project-data/sms/train-data.tsv\n",
    "\n",
    "if not os.path.exists(testing_file_path):\n",
    "    !curl -L -O https://cdn.freecodecamp.org/project-data/sms/valid-data.tsv\n"
   ]
  },
  {
   "cell_type": "code",
   "execution_count": null,
   "metadata": {},
   "outputs": [],
   "source": [
    "column_names = [\"type\", \"message\"]\n",
    "training_df = pd.read_csv(filepath_or_buffer=training_file_path, sep=\"\\t\", names=column_names)\n",
    "\n",
    "training_df.head()"
   ]
  },
  {
   "cell_type": "code",
   "execution_count": null,
   "metadata": {
    "id": "g_h508FEClxO"
   },
   "outputs": [],
   "source": [
    "testing_df = pd.read_csv(filepath_or_buffer=testing_file_path, sep=\"\\t\", names=column_names)\n",
    "\n",
    "testing_df.head()"
   ]
  },
  {
   "cell_type": "code",
   "execution_count": 7,
   "metadata": {
    "id": "zOMKywn4zReN"
   },
   "outputs": [
    {
     "data": {
      "image/png": "[encoded data removed]",
      "text/plain": [
       "<Figure size 640x480 with 2 Axes>"
      ]
     },
     "metadata": {},
     "output_type": "display_data"
    }
   ],
   "source": [
    "# visualize data\n",
    "train_df_ham_count = train_df[\"type\"].where(train_df[\"type\"]==\"ham\").count()\n",
    "train_df_spam_count = train_df[\"type\"].where(train_df[\"type\"]==\"spam\").count()\n",
    "\n",
    "plt.subplot(1, 2, 1)\n",
    "plt.bar(x=\"ham\", height=train_df_ham_count).set_label(\"ham\")\n",
    "plt.bar(x=\"spam\", height=train_df_spam_count).set_label(\"spam\")\n",
    "# plt.xlabel(xlabel=\"type\")\n",
    "plt.ylabel(ylabel=\"count\")\n",
    "plt.title(\"training dataset\")\n",
    "\n",
    "test_df_ham_count = test_df[\"type\"].where(test_df[\"type\"]==\"ham\").count()\n",
    "test_df_spam_count = test_df[\"type\"].where(test_df[\"type\"]==\"spam\").count()\n",
    "\n",
    "plt.subplot(1, 2, 2, )\n",
    "plt.bar(x=\"ham\", height=test_df_ham_count).set_label(\"ham\")\n",
    "plt.bar(x=\"spam\", height=test_df_spam_count).set_label(\"spam\")\n",
    "plt.title(\"test dataset\")\n",
    "\n",
    "plt.show()"
   ]
  },
  {
   "cell_type": "code",
   "execution_count": null,
   "metadata": {
    "id": "J9tD9yACG6M9"
   },
   "outputs": [],
   "source": [
    "# function to predict messages based on model\n",
    "# (should return list containing prediction and label, ex. [0.008318834938108921, 'ham'])\n",
    "def predict_message(pred_text):\n",
    "\n",
    "\n",
    "\n",
    "  return (prediction)\n",
    "\n",
    "pred_text = \"how are you doing today?\"\n",
    "\n",
    "prediction = predict_message(pred_text)\n",
    "print(prediction)"
   ]
  },
  {
   "cell_type": "code",
   "execution_count": null,
   "metadata": {
    "id": "Dxotov85SjsC",
    "lines_to_next_cell": 2
   },
   "outputs": [],
   "source": [
    "# Run this cell to test your function and model. Do not modify contents.\n",
    "def test_predictions():\n",
    "  test_messages = [\"how are you doing today\",\n",
    "                   \"sale today! to stop texts call 98912460324\",\n",
    "                   \"i dont want to go. can we try it a different day? available sat\",\n",
    "                   \"our new mobile video service is live. just install on your phone to start watching.\",\n",
    "                   \"you have won £1000 cash! call to claim your prize.\",\n",
    "                   \"i'll bring it tomorrow. don't forget the milk.\",\n",
    "                   \"wow, is your arm alright. that happened to me one time too\"\n",
    "                  ]\n",
    "\n",
    "  test_answers = [\"ham\", \"spam\", \"ham\", \"spam\", \"spam\", \"ham\", \"ham\"]\n",
    "  passed = True\n",
    "\n",
    "  for msg, ans in zip(test_messages, test_answers):\n",
    "    prediction = predict_message(msg)\n",
    "    if prediction[1] != ans:\n",
    "      passed = False\n",
    "\n",
    "  if passed:\n",
    "    print(\"You passed the challenge. Great job!\")\n",
    "  else:\n",
    "    print(\"You haven't passed yet. Keep trying.\")\n",
    "\n",
    "test_predictions()"
   ]
  }
 ],
 "metadata": {
  "colab": {
   "collapsed_sections": [],
   "name": "fcc_sms_text_classification.ipynb",
   "private_outputs": true,
   "provenance": [],
   "toc_visible": true
  },
  "kernelspec": {
   "display_name": ".venv",
   "language": "python",
   "name": "python3"
  },
  "language_info": {
   "codemirror_mode": {
    "name": "ipython",
    "version": 3
   },
   "file_extension": ".py",
   "mimetype": "text/x-python",
   "name": "python",
   "nbconvert_exporter": "python",
   "pygments_lexer": "ipython3",
   "version": "3.13.5"
  }
 },
 "nbformat": 4,
 "nbformat_minor": 4
}
